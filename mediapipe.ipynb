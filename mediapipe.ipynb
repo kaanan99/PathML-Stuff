{
 "cells": [
  {
   "cell_type": "code",
   "execution_count": null,
   "id": "7c1e3207-779c-45e8-b328-242a91926136",
   "metadata": {},
   "outputs": [],
   "source": [
    "import numpy as np\n",
    "import nvidia.dali.fn as fn\n",
    "import nvidia.dali.types as types\n",
    "import os\n",
    "import pytorch_lightning as pl\n",
    "import pandas as pd\n",
    "import torch\n",
    "import torch.nn as nn\n",
    "import torchmetrics\n",
    "\n",
    "from pytorch_lightning.callbacks import EarlyStopping, ModelCheckpoint\n",
    "from pytorch_lightning.loggers.tensorboard import TensorBoardLogger\n",
    "from nvidia.dali import pipeline_def, Pipeline\n",
    "from nvidia.dali.plugin.pytorch import DALIClassificationIterator\n",
    "from torchvision.models import efficientnet_v2_s, EfficientNet_V2_S_Weights\n",
    "from torch.optim import Adam\n",
    "from tqdm import tqdm\n",
    "\n",
    "from sklearn.metrics import(\n",
    "    accuracy_score, \n",
    "    confusion_matrix, \n",
    "    ConfusionMatrixDisplay,\n",
    ")"
   ]
  },
  {
   "cell_type": "code",
   "execution_count": null,
   "id": "44fc8b64-6daf-4bfa-9814-78e6c493ca4e",
   "metadata": {},
   "outputs": [],
   "source": [
    "media_pipe_preds = pd.read_csv(\"/mnt/durable/training_data/mediapipe-train.csv\")\n",
    "task_1_data = pd.read_csv(\"/mnt/durable/training_data/task1_pathml.csv\")"
   ]
  },
  {
   "cell_type": "code",
   "execution_count": null,
   "id": "49fa283d-7a11-462a-a376-ef809aebc1c7",
   "metadata": {},
   "outputs": [],
   "source": [
    "media_pipe_preds"
   ]
  },
  {
   "cell_type": "code",
   "execution_count": null,
   "id": "ca64d771-1277-4851-bcaa-4e7f54c2b009",
   "metadata": {},
   "outputs": [],
   "source": [
    "def extract_filename_label_frame(file_list):\n",
    "    f = open(file_list, \"r\")\n",
    "    total_files = f.readlines()\n",
    "    f.close()\n",
    "\n",
    "    labels = []\n",
    "    video_ids = []\n",
    "    frames = []\n",
    "    for file in total_files:\n",
    "        components = file.split(\" \")\n",
    "\n",
    "        # Get the file_name\n",
    "        video_name = components[0].split(\"/\")[-1]\n",
    "        video_id = video_name.split(\".\")[0]\n",
    "\n",
    "        label = components[1]\n",
    "\n",
    "        start = float(components[2])\n",
    "        end = float(components[3].strip())\n",
    "\n",
    "        while start <= end:\n",
    "            labels.append(label)\n",
    "            video_ids.append(video_id)\n",
    "            frames.append(start)\n",
    "            start += 1\n",
    "\n",
    "    df = pd.DataFrame(\n",
    "        {\n",
    "            \"video_id\": video_ids,\n",
    "            \"timestamp\":frames,\n",
    "            \"label\":labels,\n",
    "        }  \n",
    "    )\n",
    "    return df"
   ]
  },
  {
   "cell_type": "code",
   "execution_count": null,
   "id": "a85631e2-ca5b-4800-9d6e-442af648d5ef",
   "metadata": {},
   "outputs": [],
   "source": [
    "testing_labels = extract_filename_label_frame(test_file_list)"
   ]
  },
  {
   "cell_type": "code",
   "execution_count": null,
   "id": "f8e0e576-bb67-4fe9-a134-ef1758a7c8a7",
   "metadata": {},
   "outputs": [],
   "source": [
    "media_pipe_info = (\n",
    "    media_pipe_preds\n",
    "    .merge(testing_labels, how=\"left\")\n",
    "    .sort_values([\"video_id\", \"timestamp\"])\n",
    ")"
   ]
  },
  {
   "cell_type": "code",
   "execution_count": null,
   "id": "6cce405a-9c0f-43da-99a2-11f754997cf9",
   "metadata": {},
   "outputs": [],
   "source": [
    "media_pipe_info"
   ]
  },
  {
   "cell_type": "code",
   "execution_count": null,
   "id": "aa524b92-8cc4-48c9-8af0-8557aed3b586",
   "metadata": {},
   "outputs": [],
   "source": [
    "row = media_pipe_info.iloc[0]\n",
    "label = row[\"label\"]\n",
    "start_index = 1\n",
    "\n",
    "for i in range(start_index, media_pipe_info.shape[0]):\n",
    "    row = media_pipe_info.iloc[i]\n",
    "    if row.label != label:\n",
    "        print(f\"New Sequence from {start_index} to {i-1}, label: {label}\")\n",
    "        start_index = i\n",
    "        label = row.label"
   ]
  }
 ],
 "metadata": {
  "kernelspec": {
   "display_name": "Python 3 (ipykernel)",
   "language": "python",
   "name": "python3"
  },
  "language_info": {
   "codemirror_mode": {
    "name": "ipython",
    "version": 3
   },
   "file_extension": ".py",
   "mimetype": "text/x-python",
   "name": "python",
   "nbconvert_exporter": "python",
   "pygments_lexer": "ipython3",
   "version": "3.11.7"
  }
 },
 "nbformat": 4,
 "nbformat_minor": 5
}
