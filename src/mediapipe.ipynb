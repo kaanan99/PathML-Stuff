{
 "cells": [
  {
   "cell_type": "code",
   "execution_count": 1,
   "id": "7c1e3207-779c-45e8-b328-242a91926136",
   "metadata": {},
   "outputs": [],
   "source": [
    "import numpy as np\n",
    "import nvidia.dali.fn as fn\n",
    "import nvidia.dali.types as types\n",
    "import os\n",
    "import pytorch_lightning as pl\n",
    "import pandas as pd\n",
    "import torch\n",
    "import torch.nn as nn\n",
    "import torchmetrics\n",
    "\n",
    "from config import *\n",
    "from pytorch_lightning.callbacks import EarlyStopping, ModelCheckpoint\n",
    "from pytorch_lightning.loggers.tensorboard import TensorBoardLogger\n",
    "from torch.optim import Adam\n",
    "from torch.utils.data import  Dataset\n",
    "from tqdm import tqdm\n",
    "\n",
    "from sklearn.metrics import(\n",
    "    accuracy_score, \n",
    "    confusion_matrix, \n",
    "    ConfusionMatrixDisplay,\n",
    ")"
   ]
  },
  {
   "cell_type": "code",
   "execution_count": 2,
   "id": "44fc8b64-6daf-4bfa-9814-78e6c493ca4e",
   "metadata": {},
   "outputs": [],
   "source": [
    "media_pipe_preds = pd.read_csv(\"/mnt/durable/training_data/mediapipe-train.csv\")\n",
    "test_file_list = \"/mnt/durable/training_data/filelists/task1_testing.txt\""
   ]
  },
  {
   "cell_type": "code",
   "execution_count": 3,
   "id": "ca64d771-1277-4851-bcaa-4e7f54c2b009",
   "metadata": {},
   "outputs": [],
   "source": [
    "class MediaPipeDataSet(Dataset):\n",
    "    def __init__(self, sequences, labels):\n",
    "        self.sequences = sequences\n",
    "        self.labels = labels\n",
    "\n",
    "    def __len__(self):\n",
    "        self.length = len(self.sequences)\n",
    "        return self.length\n",
    "\n",
    "    def __getitem__(self, idx):\n",
    "        sequence = self.sequences[idx]\n",
    "        label = self.labels[idx]\n",
    "        return sequence, label\n",
    "\n",
    "\n",
    "def extract_filename_label_frame(file_list):\n",
    "    f = open(file_list, \"r\")\n",
    "    total_files = f.readlines()\n",
    "    f.close()\n",
    "\n",
    "    labels = []\n",
    "    video_ids = []\n",
    "    frames = []\n",
    "    for file in total_files:\n",
    "        components = file.split(\" \")\n",
    "\n",
    "        # Get the file_name\n",
    "        video_name = components[0].split(\"/\")[-1]\n",
    "        video_id = video_name.split(\".\")[0]\n",
    "\n",
    "        label = components[1]\n",
    "\n",
    "        start = float(components[2])\n",
    "        end = float(components[3].strip())\n",
    "\n",
    "        while start <= end:\n",
    "            labels.append(label)\n",
    "            video_ids.append(video_id)\n",
    "            frames.append(start)\n",
    "            start += 1\n",
    "\n",
    "    df = pd.DataFrame(\n",
    "        {\n",
    "            \"video_id\": video_ids,\n",
    "            \"timestamp\":frames,\n",
    "            \"label\":labels,\n",
    "        }  \n",
    "    )\n",
    "    return df\n",
    "\n",
    "\n",
    "def get_sequences_and_labels(media_pipe_info, relevant_columns):\n",
    "    sequences = []\n",
    "    labels = []\n",
    "    start = 0\n",
    "    \n",
    "    for i in tqdm(range(SEQUENCE_LENGTH, media_pipe_info.shape[0], SEQUENCE_LENGTH)):\n",
    "        # Get Sub-sequence and label\n",
    "        sub_sequence = media_pipe_info.iloc[start:i]\n",
    "        \n",
    "        label = sub_sequence.label.iloc[-1]\n",
    "        \n",
    "        # Drop unnecessary columns\n",
    "        sub_sequence = sub_sequence[relevant_columns].to_numpy()\n",
    "    \n",
    "        labels.append(label)\n",
    "        sequences.append(sub_sequence)\n",
    "            \n",
    "        start += SEQUENCE_LENGTH\n",
    "\n",
    "    return labels, sequences\n",
    "\n",
    "\n",
    "def create_media_pipe_dataset(media_pipe_output, file_list):\n",
    "    # Get the label for each frame for each video\n",
    "    video_and_labels = extract_filename_label_frame(file_list)\n",
    "    \n",
    "    # Combine label with mediapipe output\n",
    "    media_pipe_info = (\n",
    "        media_pipe_output\n",
    "        .merge(video_and_labels, how=\"left\")\n",
    "        .sort_values([\"video_id\", \"timestamp\"])\n",
    "    )\n",
    "\n",
    "    # Extract only mediapipe data column names\n",
    "    relevant_columns = [col for col in media_pipe_info if \"keypoint\" in col or \"box\" in col]\n",
    "\n",
    "    # get the labels and sequences\n",
    "    print(\"Extracting labels and sequences\")\n",
    "    label, sequences = get_sequences_and_labels(media_pipe_info, relevant_columns)\n",
    "    return MediaPipeDataSet(sequences, label)"
   ]
  },
  {
   "cell_type": "code",
   "execution_count": 4,
   "id": "9ee85f45-ca27-415a-bb99-b377b1916ddb",
   "metadata": {},
   "outputs": [
    {
     "name": "stdout",
     "output_type": "stream",
     "text": [
      "Extracting labels and sequences\n"
     ]
    },
    {
     "name": "stderr",
     "output_type": "stream",
     "text": [
      "100%|██████████| 4183/4183 [00:01<00:00, 2966.57it/s]\n"
     ]
    },
    {
     "data": {
      "text/plain": [
       "<__main__.MediaPipeDataSet at 0x7f1a8ce8d750>"
      ]
     },
     "execution_count": 4,
     "metadata": {},
     "output_type": "execute_result"
    }
   ],
   "source": [
    "create_media_pipe_dataset(media_pipe_preds, test_file_list)"
   ]
  },
  {
   "cell_type": "code",
   "execution_count": null,
   "id": "ab1522f8-19e0-45c6-8a44-d86e71a93c0f",
   "metadata": {},
   "outputs": [],
   "source": []
  }
 ],
 "metadata": {
  "kernelspec": {
   "display_name": "Python 3 (ipykernel)",
   "language": "python",
   "name": "python3"
  },
  "language_info": {
   "codemirror_mode": {
    "name": "ipython",
    "version": 3
   },
   "file_extension": ".py",
   "mimetype": "text/x-python",
   "name": "python",
   "nbconvert_exporter": "python",
   "pygments_lexer": "ipython3",
   "version": "3.11.7"
  }
 },
 "nbformat": 4,
 "nbformat_minor": 5
}
