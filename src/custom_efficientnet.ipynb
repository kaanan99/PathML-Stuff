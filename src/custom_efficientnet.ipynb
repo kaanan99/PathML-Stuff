{
 "cells": [
  {
   "cell_type": "code",
   "execution_count": 1,
   "id": "a9511178-cca7-4276-b4d2-5db7048836c5",
   "metadata": {},
   "outputs": [],
   "source": [
    "import numpy as np\n",
    "import os\n",
    "import pytorch_lightning as pl\n",
    "import torch\n",
    "\n",
    "from config import *\n",
    "from data_module import VideoDataModule\n",
    "from pytorch_lightning.loggers.tensorboard import TensorBoardLogger\n",
    "from pytorch_lightning.callbacks import ModelCheckpoint\n",
    "from sklearn.utils import class_weight\n",
    "from tqdm import tqdm\n",
    "import torchmetrics\n",
    "\n",
    "from sklearn.metrics import(\n",
    "    accuracy_score, \n",
    "    confusion_matrix, \n",
    "    ConfusionMatrixDisplay,\n",
    ")\n",
    "\n",
    "from custom_efficientnet import *"
   ]
  },
  {
   "cell_type": "code",
   "execution_count": 2,
   "id": "088bb469-cfcf-4144-a2e7-f79b3994ce9a",
   "metadata": {},
   "outputs": [
    {
     "name": "stdout",
     "output_type": "stream",
     "text": [
      "Using:  cuda\n"
     ]
    }
   ],
   "source": [
    "# Determine Device\n",
    "if torch.cuda.is_available():\n",
    "    device = torch.device(\"cuda\")\n",
    "else:\n",
    "    device = torch.device(\"cpu\")\n",
    "print(\"Using: \", device)\n",
    "torch.cuda.empty_cache()"
   ]
  },
  {
   "cell_type": "code",
   "execution_count": 3,
   "id": "404e1e7f-e53a-4396-ab78-b07855d6c2c5",
   "metadata": {},
   "outputs": [],
   "source": [
    "batch_size = 40\n",
    "experiment_name = \"efficientnet_with_class_weights\"\n",
    "learning_rate = .0001\n",
    "max_epochs = 20"
   ]
  },
  {
   "cell_type": "code",
   "execution_count": 12,
   "id": "736f3b46-0ede-4d07-b605-793acbe608f3",
   "metadata": {},
   "outputs": [],
   "source": [
    "def calculate_class_weights(loader):\n",
    "    unique_classes = list(NUM_TO_LABEL.keys())\n",
    "    total_labels = np.array([])\n",
    "    \n",
    "    for batch in tqdm(loader):\n",
    "        data = batch[0][\"label\"]\n",
    "        batch_labels = torch.argmax(data, dim=1).detach().cpu().numpy()\n",
    "        total_labels = np.concatenate([total_labels, batch_labels])\n",
    "    \n",
    "    weights = class_weight.compute_class_weight(\n",
    "        \"balanced\", \n",
    "        classes=unique_classes, \n",
    "        y=total_labels\n",
    "    )\n",
    "    class_weights = torch.FloatTensor(weights).to(device)\n",
    "    return class_weights\n",
    "\n",
    "\n",
    "def evaluate_model(model, data, batch_size, device):\n",
    "    # Set model to eval and put on device\n",
    "    model.eval()\n",
    "    model.to(device)\n",
    "\n",
    "    predicted_label = []\n",
    "    actual_label = []\n",
    "\n",
    "    classes = [NUM_TO_LABEL[i] for i in range(NUM_CLASSES)]\n",
    "\n",
    "    for batch in tqdm(data):\n",
    "        # Get Data\n",
    "        data = batch[0][\"data\"]\n",
    "        # Remove sequence length dim\n",
    "        data = torch.squeeze(data, 1).reshape(batch_size, 3, 189, 224)\n",
    "        label = batch[0][\"label\"]\n",
    "\n",
    "        # Make Predictions\n",
    "        outputs = model(data)\n",
    "\n",
    "        # Decode prediction from one hot encoding ([0, 1, 0] --> 1)\n",
    "        predicted_class = torch.argmax(outputs, dim=1).detach().cpu().numpy()\n",
    "        actual_class = torch.argmax(label, dim=1).detach().cpu().numpy()\n",
    "\n",
    "        # Save Results\n",
    "        predicted_label.append(predicted_class)\n",
    "        actual_label.append(actual_class)\n",
    "\n",
    "    # Flatten lists (num_batches, batch_size) -> (batch_size * num_batches)\n",
    "    actual_label = np.array(actual_label).flatten()\n",
    "    predicted_label = np.array(predicted_label).flatten()\n",
    "\n",
    "    # Create confusion matrix\n",
    "    cm_train = confusion_matrix(actual_label, predicted_label)\n",
    "    confusion_matrix_object = ConfusionMatrixDisplay(confusion_matrix=cm_train, display_labels=classes)\n",
    "    confusion_matrix_object.plot()\n",
    "\n",
    "    # Calculate metrics\n",
    "    accuracy = accuracy_score(actual_label, predicted_label)\n",
    "\n",
    "    # Display metrics\n",
    "    print(f\"Accuracy: {accuracy}\")\n",
    "    \n",
    "    return confusion_matrix_object"
   ]
  },
  {
   "cell_type": "code",
   "execution_count": 6,
   "id": "f1fc27d2-5694-4da5-9810-75947b2babfa",
   "metadata": {},
   "outputs": [],
   "source": [
    "video_data_module = VideoDataModule(\n",
    "        batch_size, \n",
    "        TRAIN_FILE_LIST, \n",
    "        TEST_FILE_LIST, \n",
    "        EVAL_FILE_LIST, \n",
    "        TRAIN_SIZE, \n",
    "        TEST_SIZE, \n",
    "        EVAL_SIZE\n",
    "    )"
   ]
  },
  {
   "cell_type": "code",
   "execution_count": 10,
   "id": "1dcec419-9432-4dcd-8788-08e96c611ea3",
   "metadata": {},
   "outputs": [
    {
     "name": "stderr",
     "output_type": "stream",
     "text": [
      "/usr/local/lib/python3.11/dist-packages/nvidia/dali/plugin/base_iterator.py:207: Warning: Please set `reader_name` and don't set last_batch_padded and size manually whenever possible. This may lead, in some situations, to missing some samples or returning duplicated ones. Check the Sharding section of the documentation for more details.\n",
      "  _iterator_deprecation_warning()\n",
      "  0%|          | 31/8754 [00:03<14:49,  9.81it/s]\n"
     ]
    },
    {
     "ename": "KeyboardInterrupt",
     "evalue": "",
     "output_type": "error",
     "traceback": [
      "\u001b[0;31m---------------------------------------------------------------------------\u001b[0m",
      "\u001b[0;31mKeyboardInterrupt\u001b[0m                         Traceback (most recent call last)",
      "Cell \u001b[0;32mIn[10], line 3\u001b[0m\n\u001b[1;32m      1\u001b[0m training_loader \u001b[38;5;241m=\u001b[39m video_data_module\u001b[38;5;241m.\u001b[39mtrain_dataloader()\n\u001b[0;32m----> 3\u001b[0m training_class_weights \u001b[38;5;241m=\u001b[39m \u001b[43mcalculate_class_weights\u001b[49m\u001b[43m(\u001b[49m\u001b[43mtraining_loader\u001b[49m\u001b[43m)\u001b[49m\n",
      "Cell \u001b[0;32mIn[8], line 5\u001b[0m, in \u001b[0;36mcalculate_class_weights\u001b[0;34m(loader)\u001b[0m\n\u001b[1;32m      2\u001b[0m unique_classes \u001b[38;5;241m=\u001b[39m \u001b[38;5;28mlist\u001b[39m(NUM_TO_LABEL\u001b[38;5;241m.\u001b[39mkeys())\n\u001b[1;32m      3\u001b[0m total_labels \u001b[38;5;241m=\u001b[39m np\u001b[38;5;241m.\u001b[39marray([])\n\u001b[0;32m----> 5\u001b[0m \u001b[43m\u001b[49m\u001b[38;5;28;43;01mfor\u001b[39;49;00m\u001b[43m \u001b[49m\u001b[43mbatch\u001b[49m\u001b[43m \u001b[49m\u001b[38;5;129;43;01min\u001b[39;49;00m\u001b[43m \u001b[49m\u001b[43mtqdm\u001b[49m\u001b[43m(\u001b[49m\u001b[43mloader\u001b[49m\u001b[43m)\u001b[49m\u001b[43m:\u001b[49m\n\u001b[1;32m      6\u001b[0m \u001b[43m    \u001b[49m\u001b[43mdata\u001b[49m\u001b[43m \u001b[49m\u001b[38;5;241;43m=\u001b[39;49m\u001b[43m \u001b[49m\u001b[43mbatch\u001b[49m\u001b[43m[\u001b[49m\u001b[38;5;241;43m0\u001b[39;49m\u001b[43m]\u001b[49m\u001b[43m[\u001b[49m\u001b[38;5;124;43m\"\u001b[39;49m\u001b[38;5;124;43mlabel\u001b[39;49m\u001b[38;5;124;43m\"\u001b[39;49m\u001b[43m]\u001b[49m\n\u001b[1;32m      7\u001b[0m \u001b[43m    \u001b[49m\u001b[43mbatch_labels\u001b[49m\u001b[43m \u001b[49m\u001b[38;5;241;43m=\u001b[39;49m\u001b[43m \u001b[49m\u001b[43mtorch\u001b[49m\u001b[38;5;241;43m.\u001b[39;49m\u001b[43margmax\u001b[49m\u001b[43m(\u001b[49m\u001b[43mdata\u001b[49m\u001b[43m,\u001b[49m\u001b[43m \u001b[49m\u001b[43mdim\u001b[49m\u001b[38;5;241;43m=\u001b[39;49m\u001b[38;5;241;43m1\u001b[39;49m\u001b[43m)\u001b[49m\u001b[38;5;241;43m.\u001b[39;49m\u001b[43mdetach\u001b[49m\u001b[43m(\u001b[49m\u001b[43m)\u001b[49m\u001b[38;5;241;43m.\u001b[39;49m\u001b[43mcpu\u001b[49m\u001b[43m(\u001b[49m\u001b[43m)\u001b[49m\u001b[38;5;241;43m.\u001b[39;49m\u001b[43mnumpy\u001b[49m\u001b[43m(\u001b[49m\u001b[43m)\u001b[49m\n",
      "File \u001b[0;32m/usr/local/lib/python3.11/dist-packages/tqdm/std.py:1181\u001b[0m, in \u001b[0;36mtqdm.__iter__\u001b[0;34m(self)\u001b[0m\n\u001b[1;32m   1178\u001b[0m time \u001b[38;5;241m=\u001b[39m \u001b[38;5;28mself\u001b[39m\u001b[38;5;241m.\u001b[39m_time\n\u001b[1;32m   1180\u001b[0m \u001b[38;5;28;01mtry\u001b[39;00m:\n\u001b[0;32m-> 1181\u001b[0m \u001b[43m    \u001b[49m\u001b[38;5;28;43;01mfor\u001b[39;49;00m\u001b[43m \u001b[49m\u001b[43mobj\u001b[49m\u001b[43m \u001b[49m\u001b[38;5;129;43;01min\u001b[39;49;00m\u001b[43m \u001b[49m\u001b[43miterable\u001b[49m\u001b[43m:\u001b[49m\n\u001b[1;32m   1182\u001b[0m \u001b[43m        \u001b[49m\u001b[38;5;28;43;01myield\u001b[39;49;00m\u001b[43m \u001b[49m\u001b[43mobj\u001b[49m\n\u001b[1;32m   1183\u001b[0m \u001b[43m        \u001b[49m\u001b[38;5;66;43;03m# Update and possibly print the progressbar.\u001b[39;49;00m\n\u001b[1;32m   1184\u001b[0m \u001b[43m        \u001b[49m\u001b[38;5;66;43;03m# Note: does not call self.update(1) for speed optimisation.\u001b[39;49;00m\n",
      "File \u001b[0;32m/usr/local/lib/python3.11/dist-packages/nvidia/dali/plugin/pytorch/__init__.py:245\u001b[0m, in \u001b[0;36mDALIGenericIterator.__next__\u001b[0;34m(self)\u001b[0m\n\u001b[1;32m    242\u001b[0m     \u001b[38;5;28;01mreturn\u001b[39;00m batch\n\u001b[1;32m    244\u001b[0m \u001b[38;5;66;03m# Gather outputs\u001b[39;00m\n\u001b[0;32m--> 245\u001b[0m outputs \u001b[38;5;241m=\u001b[39m \u001b[38;5;28;43mself\u001b[39;49m\u001b[38;5;241;43m.\u001b[39;49m\u001b[43m_get_outputs\u001b[49m\u001b[43m(\u001b[49m\u001b[43m)\u001b[49m\n\u001b[1;32m    247\u001b[0m data_batches \u001b[38;5;241m=\u001b[39m [\u001b[38;5;28;01mNone\u001b[39;00m \u001b[38;5;28;01mfor\u001b[39;00m i \u001b[38;5;129;01min\u001b[39;00m \u001b[38;5;28mrange\u001b[39m(\u001b[38;5;28mself\u001b[39m\u001b[38;5;241m.\u001b[39m_num_gpus)]\n\u001b[1;32m    248\u001b[0m \u001b[38;5;28;01mfor\u001b[39;00m i \u001b[38;5;129;01min\u001b[39;00m \u001b[38;5;28mrange\u001b[39m(\u001b[38;5;28mself\u001b[39m\u001b[38;5;241m.\u001b[39m_num_gpus):\n",
      "File \u001b[0;32m/usr/local/lib/python3.11/dist-packages/nvidia/dali/plugin/base_iterator.py:381\u001b[0m, in \u001b[0;36m_DaliBaseIterator._get_outputs\u001b[0;34m(self)\u001b[0m\n\u001b[1;32m    379\u001b[0m     \u001b[38;5;28;01mfor\u001b[39;00m p \u001b[38;5;129;01min\u001b[39;00m \u001b[38;5;28mself\u001b[39m\u001b[38;5;241m.\u001b[39m_pipes:\n\u001b[1;32m    380\u001b[0m         \u001b[38;5;28;01mwith\u001b[39;00m p\u001b[38;5;241m.\u001b[39m_check_api_type_scope(types\u001b[38;5;241m.\u001b[39mPipelineAPIType\u001b[38;5;241m.\u001b[39mITERATOR):\n\u001b[0;32m--> 381\u001b[0m             outputs\u001b[38;5;241m.\u001b[39mappend(\u001b[43mp\u001b[49m\u001b[38;5;241;43m.\u001b[39;49m\u001b[43mshare_outputs\u001b[49m\u001b[43m(\u001b[49m\u001b[43m)\u001b[49m)\n\u001b[1;32m    382\u001b[0m \u001b[38;5;28;01mexcept\u001b[39;00m \u001b[38;5;167;01mStopIteration\u001b[39;00m \u001b[38;5;28;01mas\u001b[39;00m e:\n\u001b[1;32m    383\u001b[0m     \u001b[38;5;66;03m# in case ExternalSource returns StopIteration\u001b[39;00m\n\u001b[1;32m    384\u001b[0m     \u001b[38;5;28;01mif\u001b[39;00m \u001b[38;5;28mself\u001b[39m\u001b[38;5;241m.\u001b[39m_size \u001b[38;5;241m<\u001b[39m \u001b[38;5;241m0\u001b[39m \u001b[38;5;129;01mand\u001b[39;00m \u001b[38;5;28mself\u001b[39m\u001b[38;5;241m.\u001b[39m_auto_reset \u001b[38;5;241m==\u001b[39m \u001b[38;5;124m\"\u001b[39m\u001b[38;5;124myes\u001b[39m\u001b[38;5;124m\"\u001b[39m:\n",
      "File \u001b[0;32m/usr/local/lib/python3.11/dist-packages/nvidia/dali/pipeline.py:1113\u001b[0m, in \u001b[0;36mPipeline.share_outputs\u001b[0;34m(self)\u001b[0m\n\u001b[1;32m   1111\u001b[0m     \u001b[38;5;28;01mraise\u001b[39;00m \u001b[38;5;167;01mStopIteration\u001b[39;00m\n\u001b[1;32m   1112\u001b[0m \u001b[38;5;28mself\u001b[39m\u001b[38;5;241m.\u001b[39m_batches_to_consume \u001b[38;5;241m-\u001b[39m\u001b[38;5;241m=\u001b[39m \u001b[38;5;241m1\u001b[39m\n\u001b[0;32m-> 1113\u001b[0m \u001b[38;5;28;01mreturn\u001b[39;00m \u001b[38;5;28;43mself\u001b[39;49m\u001b[38;5;241;43m.\u001b[39;49m\u001b[43m_pipe\u001b[49m\u001b[38;5;241;43m.\u001b[39;49m\u001b[43mShareOutputs\u001b[49m\u001b[43m(\u001b[49m\u001b[43m)\u001b[49m\n",
      "\u001b[0;31mKeyboardInterrupt\u001b[0m: "
     ]
    }
   ],
   "source": [
    "training_loader = video_data_module.train_dataloader()\n",
    "\n",
    "training_class_weights = calculate_class_weights(training_loader)"
   ]
  },
  {
   "cell_type": "code",
   "execution_count": 6,
   "id": "77f2c323-8370-4937-b3af-10c98ba3acb8",
   "metadata": {},
   "outputs": [
    {
     "name": "stderr",
     "output_type": "stream",
     "text": [
      "GPU available: True (cuda), used: True\n",
      "TPU available: False, using: 0 TPU cores\n",
      "IPU available: False, using: 0 IPUs\n",
      "HPU available: False, using: 0 HPUs\n",
      "Running in `fast_dev_run` mode: will run the requested loop using 1 batch(es). Logging and checkpointing is suppressed.\n"
     ]
    }
   ],
   "source": [
    "# Create logger\n",
    "logger = TensorBoardLogger(\n",
    "    \"tensor_board_logs\", \n",
    "    name=experiment_name,\n",
    ")\n",
    "\n",
    "# Create checkpoint callback (Saves model state)\n",
    "checkpoint_callback = ModelCheckpoint(\n",
    "    dirpath=f'./checkpoints/{experiment_name}', \n",
    "    save_on_train_epoch_end=True,\n",
    "    monitor='testing_accuracy',\n",
    "    mode='max',\n",
    "    filename=\"{experiment_name}_epoch_{epoch}_val_accuracy_{testing_accuracy:.2f}_step_{step}\",\n",
    "    save_top_k=5,\n",
    "    every_n_epochs=1,\n",
    ")\n",
    "\n",
    "# Runs Val every epoch\n",
    "trainer = pl.Trainer(\n",
    "    accelerator='gpu', \n",
    "    devices=1, \n",
    "    max_epochs=max_epochs,\n",
    "    default_root_dir=os.getcwd(),\n",
    "    callbacks=[checkpoint_callback],\n",
    "    logger=logger,\n",
    "    check_val_every_n_epoch=3,\n",
    "    # fast_dev_run=True\n",
    ")\n",
    "\n",
    "my_efficientnet = MyEfficientNet(\n",
    "    NUM_CLASSES,\n",
    "    batch_size,\n",
    "    learning_rate,\n",
    "    class_weights = training_class_weights\n",
    ").to(device)"
   ]
  },
  {
   "cell_type": "code",
   "execution_count": 7,
   "id": "f17f77f8-682c-438a-849e-8b6144a94a92",
   "metadata": {},
   "outputs": [
    {
     "name": "stderr",
     "output_type": "stream",
     "text": [
      "/usr/local/lib/python3.11/dist-packages/pytorch_lightning/callbacks/model_checkpoint.py:653: Checkpoint directory /kaanan_workspace/checkpoints/EfficientNet_trial_1 exists and is not empty.\n",
      "LOCAL_RANK: 0 - CUDA_VISIBLE_DEVICES: [0]\n",
      "\n",
      "  | Name         | Type             | Params\n",
      "--------------------------------------------------\n",
      "0 | loss         | CrossEntropyLoss | 0     \n",
      "1 | efficientnet | EfficientNet     | 20.2 M\n",
      "--------------------------------------------------\n",
      "20.2 M    Trainable params\n",
      "0         Non-trainable params\n",
      "20.2 M    Total params\n",
      "80.725    Total estimated model params size (MB)\n",
      "/usr/local/lib/python3.11/dist-packages/nvidia/dali/plugin/base_iterator.py:207: Warning: Please set `reader_name` and don't set last_batch_padded and size manually whenever possible. This may lead, in some situations, to missing some samples or returning duplicated ones. Check the Sharding section of the documentation for more details.\n",
      "  _iterator_deprecation_warning()\n"
     ]
    },
    {
     "data": {
      "application/vnd.jupyter.widget-view+json": {
       "model_id": "74db08806fc54f878408766552585a66",
       "version_major": 2,
       "version_minor": 0
      },
      "text/plain": [
       "Training: |          | 0/? [00:00<?, ?it/s]"
      ]
     },
     "metadata": {},
     "output_type": "display_data"
    },
    {
     "data": {
      "application/vnd.jupyter.widget-view+json": {
       "model_id": "",
       "version_major": 2,
       "version_minor": 0
      },
      "text/plain": [
       "Validation: |          | 0/? [00:00<?, ?it/s]"
      ]
     },
     "metadata": {},
     "output_type": "display_data"
    },
    {
     "name": "stderr",
     "output_type": "stream",
     "text": [
      "`Trainer.fit` stopped: `max_steps=1` reached.\n"
     ]
    }
   ],
   "source": [
    "# Train model\n",
    "trainer.fit(my_efficientnet, video_data_module)\n",
    "\n",
    "# Save final checkpoint\n",
    "trainer.save_checkpoint(f\"./final_checkpoints/{experiment_name}/final_checkpoint\")"
   ]
  },
  {
   "cell_type": "code",
   "execution_count": 16,
   "id": "79b9430b-ef75-471e-b855-d446aa9d9aa7",
   "metadata": {},
   "outputs": [
    {
     "name": "stderr",
     "output_type": "stream",
     "text": [
      "/usr/local/lib/python3.11/dist-packages/nvidia/dali/plugin/base_iterator.py:207: Warning: Please set `reader_name` and don't set last_batch_padded and size manually whenever possible. This may lead, in some situations, to missing some samples or returning duplicated ones. Check the Sharding section of the documentation for more details.\n",
      "  _iterator_deprecation_warning()\n",
      "100%|██████████| 3577/3577 [02:25<00:00, 24.65it/s]\n"
     ]
    },
    {
     "name": "stdout",
     "output_type": "stream",
     "text": [
      "Accuracy: 0.6782219737209952\n"
     ]
    },
    {
     "data": {
      "image/png": "[encoded data removed]",
      "text/plain": [
       "<Figure size 640x480 with 2 Axes>"
      ]
     },
     "metadata": {},
     "output_type": "display_data"
    }
   ],
   "source": [
    "# Extract validation dataloader from data module\n",
    "val_data = video_data_module.val_dataloader()\n",
    "\n",
    "# Get confusion matrix and metrics\n",
    "confusion_matrix_ = evaluate_model(my_efficientnet, val_data, device)\n",
    "confusion_matrix_.figure_.savefig(f'./confusion_matrices/{experiment_name}_validation_confusion_matrix.png')"
   ]
  },
  {
   "cell_type": "code",
   "execution_count": 19,
   "id": "6418fde0-9154-4081-9f73-62679715b02e",
   "metadata": {},
   "outputs": [
    {
     "name": "stderr",
     "output_type": "stream",
     "text": [
      "100%|██████████| 8754/8754 [18:46<00:00,  7.77it/s]\n"
     ]
    },
    {
     "name": "stdout",
     "output_type": "stream",
     "text": [
      "Accuracy: 0.9922235549463102\n"
     ]
    },
    {
     "data": {
      "image/png": "[encoded data removed]",
      "text/plain": [
       "<Figure size 640x480 with 2 Axes>"
      ]
     },
     "metadata": {},
     "output_type": "display_data"
    }
   ],
   "source": [
    "# Extract validation dataloader from data module\n",
    "train_data = video_data_module.train_dataloader()\n",
    "\n",
    "# Get confusion matrix and metrics\n",
    "confusion_matrix_ = evaluate_model(my_efficientnet, train_data, batch_size, device)\n",
    "confusion_matrix_.figure_.savefig(f'./confusion_matrices/{experiment_name}_training_confusion_matrix.png')"
   ]
  },
  {
   "cell_type": "code",
   "execution_count": 24,
   "id": "737381c1-9366-4fd1-a9e5-e5a9f66e908c",
   "metadata": {},
   "outputs": [],
   "source": [
    "model = MyEfficientNet.load_from_checkpoint(\n",
    "                    \"final_checkpoints/EfficientNet_trial_1/final_checkpoint\",  \n",
    "                    num_classes=3,\n",
    "                    batch_size=batch_size,\n",
    "                    learning_rate=learning_rate,\n",
    "                    fine_tune=False,\n",
    "                ).to(device)\n",
    "model = torch.nn.Sequential(*(list(list(model.children())[1].children())[:-1]))"
   ]
  },
  {
   "cell_type": "code",
   "execution_count": 25,
   "id": "7f5c268b-70a4-42a4-869a-98a8289e8e65",
   "metadata": {},
   "outputs": [
    {
     "name": "stderr",
     "output_type": "stream",
     "text": [
      "  0%|          | 0/8754 [00:00<?, ?it/s]"
     ]
    },
    {
     "name": "stdout",
     "output_type": "stream",
     "text": [
      "tensor([[[[ 0.1304]],\n",
      "\n",
      "         [[-0.0372]],\n",
      "\n",
      "         [[ 0.2176]],\n",
      "\n",
      "         ...,\n",
      "\n",
      "         [[-0.0690]],\n",
      "\n",
      "         [[ 0.0859]],\n",
      "\n",
      "         [[-0.1379]]],\n",
      "\n",
      "\n",
      "        [[[ 0.2648]],\n",
      "\n",
      "         [[-0.1201]],\n",
      "\n",
      "         [[ 0.1842]],\n",
      "\n",
      "         ...,\n",
      "\n",
      "         [[ 0.1799]],\n",
      "\n",
      "         [[ 0.3865]],\n",
      "\n",
      "         [[-0.0230]]],\n",
      "\n",
      "\n",
      "        [[[-0.0548]],\n",
      "\n",
      "         [[ 0.0212]],\n",
      "\n",
      "         [[-0.0866]],\n",
      "\n",
      "         ...,\n",
      "\n",
      "         [[-0.0159]],\n",
      "\n",
      "         [[-0.0608]],\n",
      "\n",
      "         [[ 0.4337]]],\n",
      "\n",
      "\n",
      "        ...,\n",
      "\n",
      "\n",
      "        [[[-0.1340]],\n",
      "\n",
      "         [[-0.1642]],\n",
      "\n",
      "         [[-0.1339]],\n",
      "\n",
      "         ...,\n",
      "\n",
      "         [[-0.0977]],\n",
      "\n",
      "         [[ 0.2358]],\n",
      "\n",
      "         [[-0.2064]]],\n",
      "\n",
      "\n",
      "        [[[ 0.9404]],\n",
      "\n",
      "         [[ 0.9802]],\n",
      "\n",
      "         [[ 0.2838]],\n",
      "\n",
      "         ...,\n",
      "\n",
      "         [[ 0.0442]],\n",
      "\n",
      "         [[ 0.3163]],\n",
      "\n",
      "         [[ 0.2602]]],\n",
      "\n",
      "\n",
      "        [[[ 0.0081]],\n",
      "\n",
      "         [[-0.1020]],\n",
      "\n",
      "         [[-0.1258]],\n",
      "\n",
      "         ...,\n",
      "\n",
      "         [[ 0.0378]],\n",
      "\n",
      "         [[-0.1299]],\n",
      "\n",
      "         [[ 0.0219]]]], device='cuda:0')\n"
     ]
    },
    {
     "name": "stderr",
     "output_type": "stream",
     "text": [
      "\n"
     ]
    }
   ],
   "source": [
    "train_data = video_data_module.train_dataloader()\n",
    "for batch in tqdm(train_data):\n",
    "        # Get Data\n",
    "        data = batch[0][\"data\"]\n",
    "        # Remove sequence length dim\n",
    "        data = torch.squeeze(data, 1).reshape(batch_size, 3, 189, 224)\n",
    "        print(model(data))\n",
    "        break"
   ]
  },
  {
   "cell_type": "code",
   "execution_count": null,
   "id": "0088b7e4-7416-4a23-adb6-4e0544354b6a",
   "metadata": {},
   "outputs": [],
   "source": []
  }
 ],
 "metadata": {
  "kernelspec": {
   "display_name": "Python 3 (ipykernel)",
   "language": "python",
   "name": "python3"
  },
  "language_info": {
   "codemirror_mode": {
    "name": "ipython",
    "version": 3
   },
   "file_extension": ".py",
   "mimetype": "text/x-python",
   "name": "python",
   "nbconvert_exporter": "python",
   "pygments_lexer": "ipython3",
   "version": "3.11.7"
  }
 },
 "nbformat": 4,
 "nbformat_minor": 5
}
